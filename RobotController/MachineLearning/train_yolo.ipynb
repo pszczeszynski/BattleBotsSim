{
 "cells": [
  {
   "cell_type": "code",
   "execution_count": 1,
   "metadata": {},
   "outputs": [
    {
     "name": "stdout",
     "output_type": "stream",
     "text": [
      "zsh:1: command not found: nvidia-smi\n"
     ]
    }
   ],
   "source": [
    "!nvidia-smi"
   ]
  },
  {
   "cell_type": "code",
   "execution_count": 3,
   "metadata": {},
   "outputs": [],
   "source": [
    "import ultralytics\n",
    "from ultralytics import YOLO\n",
    "import cv2"
   ]
  },
  {
   "cell_type": "code",
   "execution_count": 1,
   "metadata": {},
   "outputs": [
    {
     "name": "stderr",
     "output_type": "stream",
     "text": [
      "\n",
      "image 1/1 /Users/tongzhang/Documents/school-files/clubs/battlebots/BattleBotsSim/RobotController/MachineLearning/datasets/test1/train/images/image_20.jpg: 384x640 (no detections), 95.2ms\n",
      "Speed: 2.2ms preprocess, 95.2ms inference, 0.9ms postprocess per image at shape (1, 3, 384, 640)\n"
     ]
    },
    {
     "ename": "",
     "evalue": "",
     "output_type": "error",
     "traceback": [
      "\u001b[1;31mThe Kernel crashed while executing code in the the current cell or a previous cell. Please review the code in the cell(s) to identify a possible cause of the failure. Click <a href='https://aka.ms/vscodeJupyterKernelCrash'>here</a> for more info. View Jupyter <a href='command:jupyter.viewOutput'>log</a> for further details."
     ]
    }
   ],
   "source": [
    "from ultralytics import YOLO\n",
    "\n",
    "model = YOLO('yolov8n.pt')\n",
    "\n",
    "results = model(source='datasets/test1/train/images/image_20.jpg', show=True)\n"
   ]
  },
  {
   "cell_type": "code",
   "execution_count": 6,
   "metadata": {},
   "outputs": [],
   "source": [
    "import os\n",
    "import shutil\n",
    "\n",
    "for i in range(200):\n",
    "    img_name = f'image_{i}.jpg'\n",
    "    key_name = f'image_{i}.json'\n",
    "    shutil.copy(f'TrainingData/TrainingInputs/{img_name}', f'datasets/test1/train/images/')\n",
    "    shutil.copy(f'TrainingData/TrainingKeys/{key_name}', f'datasets/test1/keys/')"
   ]
  },
  {
   "cell_type": "code",
   "execution_count": 7,
   "metadata": {},
   "outputs": [],
   "source": [
    "for i in range(200, 251):\n",
    "    img_name = f'image_{i}.jpg'\n",
    "    key_name = f'image_{i}.json'\n",
    "    shutil.copy(f'TrainingData/TrainingInputs/{img_name}', f'datasets/test1/val/images/')\n",
    "    shutil.copy(f'TrainingData/TrainingKeys/{key_name}', f'datasets/test1/keys/')"
   ]
  },
  {
   "cell_type": "code",
   "execution_count": 2,
   "metadata": {},
   "outputs": [],
   "source": [
    "import cv2\n",
    "import json\n",
    "\n",
    "def annotate(img):\n",
    "    image = cv2.imread(f'datasets/test1/train/images/{img}.jpg')\n",
    "\n",
    "    with open(f'datasets/test1/keys/{img}.json', \"r\") as json_file:\n",
    "        json_data = json.load(json_file)\n",
    "\n",
    "    x = int(json_data[\"position\"][\"x\"])\n",
    "    y = int(json_data['position']['y'])\n",
    "    w = int(json_data[\"position\"][\"z\"])\n",
    "    h = int(json_data[\"position\"][\"w\"])\n",
    "\n",
    "    x1 = x + w\n",
    "    x2 = x - w\n",
    "    y1 = y + h\n",
    "    y2 = y - h\n",
    "    \n",
    "    cv2.rectangle(image, (x1, y1), (x2, y2), (0, 255, 0), 2)  # Green rectangle with a thickness of 2\n",
    "    cv2.circle(image, (x, y), 5, (255, 0, 0), -1)\n",
    "\n",
    "    cv2.imshow(\"Image with Bounding Boxes\", image)\n",
    "    cv2.waitKey(0)\n",
    "    cv2.destroyAllWindows()\n"
   ]
  },
  {
   "cell_type": "code",
   "execution_count": 7,
   "metadata": {},
   "outputs": [],
   "source": [
    "import numpy as np\n",
    "\n",
    "for i in np.random.randint(0, 200, 10):\n",
    "    img_name = f'image_{i}'\n",
    "    annotate(img_name)"
   ]
  },
  {
   "cell_type": "code",
   "execution_count": 10,
   "metadata": {},
   "outputs": [],
   "source": [
    "for i in range(200):\n",
    "    with open(f'datasets/test1/keys/image_{i}.json', \"r\") as json_file:\n",
    "        json_data = json.load(json_file)\n",
    "\n",
    "    with open(f'datasets/test1/train/labels/image_{i}.txt', \"w\") as file:\n",
    "        x = int(json_data[\"position\"][\"x\"])\n",
    "        y = int(json_data['position']['y'])\n",
    "        w = int(json_data[\"position\"][\"z\"])\n",
    "        h = int(json_data[\"position\"][\"w\"])\n",
    "\n",
    "        file.write(f'0 {x/1280} {y/720} {w/1280} {h/720}')"
   ]
  },
  {
   "cell_type": "code",
   "execution_count": 3,
   "metadata": {},
   "outputs": [],
   "source": [
    "for i in range(200, 251):\n",
    "    with open(f\"datasets/test1/keys/image_{i}.json\", \"r\") as json_file:\n",
    "        json_data = json.load(json_file)\n",
    "\n",
    "    with open(f\"datasets/test1/val/labels/image_{i}.txt\", \"w\") as file:\n",
    "        x = int(json_data[\"position\"][\"x\"])\n",
    "        y = int(json_data['position']['y'])\n",
    "        w = int(json_data[\"position\"][\"z\"])\n",
    "        h = int(json_data[\"position\"][\"w\"])\n",
    "\n",
    "        file.write(f'0 {x/1280} {y/720} {w/1280} {h/720}')"
   ]
  },
  {
   "cell_type": "code",
   "execution_count": 6,
   "metadata": {},
   "outputs": [
    {
     "ename": "AttributeError",
     "evalue": "'dict' object has no attribute 'eval'",
     "output_type": "error",
     "traceback": [
      "\u001b[0;31m---------------------------------------------------------------------------\u001b[0m",
      "\u001b[0;31mAttributeError\u001b[0m                            Traceback (most recent call last)",
      "\u001b[1;32m/Users/tongzhang/Documents/school-files/clubs/battlebots/BattleBotsSim/RobotController/MachineLearning/train_yolo.ipynb Cell 9\u001b[0m line \u001b[0;36m5\n\u001b[1;32m      <a href='vscode-notebook-cell:/Users/tongzhang/Documents/school-files/clubs/battlebots/BattleBotsSim/RobotController/MachineLearning/train_yolo.ipynb#X11sZmlsZQ%3D%3D?line=0'>1</a>\u001b[0m \u001b[39mimport\u001b[39;00m \u001b[39mtorch\u001b[39;00m\n\u001b[1;32m      <a href='vscode-notebook-cell:/Users/tongzhang/Documents/school-files/clubs/battlebots/BattleBotsSim/RobotController/MachineLearning/train_yolo.ipynb#X11sZmlsZQ%3D%3D?line=2'>3</a>\u001b[0m model \u001b[39m=\u001b[39m torch\u001b[39m.\u001b[39mload(\u001b[39m'\u001b[39m\u001b[39mruns/detect/train/weights/best.pt\u001b[39m\u001b[39m'\u001b[39m)\n\u001b[0;32m----> <a href='vscode-notebook-cell:/Users/tongzhang/Documents/school-files/clubs/battlebots/BattleBotsSim/RobotController/MachineLearning/train_yolo.ipynb#X11sZmlsZQ%3D%3D?line=4'>5</a>\u001b[0m model\u001b[39m.\u001b[39;49meval\n\u001b[1;32m      <a href='vscode-notebook-cell:/Users/tongzhang/Documents/school-files/clubs/battlebots/BattleBotsSim/RobotController/MachineLearning/train_yolo.ipynb#X11sZmlsZQ%3D%3D?line=6'>7</a>\u001b[0m image \u001b[39m=\u001b[39m cv2\u001b[39m.\u001b[39mimread(\u001b[39m\"\u001b[39m\u001b[39mdatasets/test1/val/images/image_210.jpg\u001b[39m\u001b[39m\"\u001b[39m)\n\u001b[1;32m      <a href='vscode-notebook-cell:/Users/tongzhang/Documents/school-files/clubs/battlebots/BattleBotsSim/RobotController/MachineLearning/train_yolo.ipynb#X11sZmlsZQ%3D%3D?line=8'>9</a>\u001b[0m image \u001b[39m=\u001b[39m torch\u001b[39m.\u001b[39mfrom_numpy(image)\u001b[39m.\u001b[39mfloat() \u001b[39m/\u001b[39m \u001b[39m255.0\u001b[39m\n",
      "\u001b[0;31mAttributeError\u001b[0m: 'dict' object has no attribute 'eval'"
     ]
    }
   ],
   "source": [
    "import torch\n",
    "\n",
    "model = torch.load('runs/detect/train/weights/best.pt')\n",
    "\n",
    "model.eval\n",
    "\n",
    "image = cv2.imread(\"datasets/test1/val/images/image_210.jpg\")\n",
    "\n",
    "image = torch.from_numpy(image).float() / 255.0\n",
    "\n",
    "results = model(image)\n",
    "\n",
    "\n",
    "xyxy = results[0].boxes.xyxy\n",
    "print(xyxy.type)\n",
    "x = int(xyxy[0][0].item())\n",
    "y = int(xyxy[0][2].item())\n",
    "w = int(xyxy[0][1].item())\n",
    "h = int(xyxy[0][3].item())\n",
    "\n",
    "print(x, y, w, h)\n",
    "\n",
    "cv2.rectangle(image, (x, y), (x + w, y + h), (0, 255, 0), 2)  # Green rectangle with a thickness of 2\n",
    "\n",
    "cv2.imshow(\"Image with Bounding Boxes\", image)\n",
    "cv2.waitKey(0)\n",
    "cv2.destroyAllWindows()\n"
   ]
  },
  {
   "cell_type": "code",
   "execution_count": null,
   "metadata": {},
   "outputs": [],
   "source": []
  },
  {
   "cell_type": "code",
   "execution_count": null,
   "metadata": {},
   "outputs": [],
   "source": []
  }
 ],
 "metadata": {
  "kernelspec": {
   "display_name": "Python 3",
   "language": "python",
   "name": "python3"
  },
  "language_info": {
   "codemirror_mode": {
    "name": "ipython",
    "version": 3
   },
   "file_extension": ".py",
   "mimetype": "text/x-python",
   "name": "python",
   "nbconvert_exporter": "python",
   "pygments_lexer": "ipython3",
   "version": "3.11.4"
  }
 },
 "nbformat": 4,
 "nbformat_minor": 2
}
