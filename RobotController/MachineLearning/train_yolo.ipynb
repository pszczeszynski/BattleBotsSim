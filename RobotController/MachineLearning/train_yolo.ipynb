{
 "cells": [
  {
   "cell_type": "code",
   "execution_count": 4,
   "metadata": {},
   "outputs": [
    {
     "name": "stdout",
     "output_type": "stream",
     "text": [
      "Sun Oct 29 15:44:09 2023       \n",
      "+-----------------------------------------------------------------------------+\n",
      "| NVIDIA-SMI 529.08       Driver Version: 529.08       CUDA Version: 12.0     |\n",
      "|-------------------------------+----------------------+----------------------+\n",
      "| GPU  Name            TCC/WDDM | Bus-Id        Disp.A | Volatile Uncorr. ECC |\n",
      "| Fan  Temp  Perf  Pwr:Usage/Cap|         Memory-Usage | GPU-Util  Compute M. |\n",
      "|                               |                      |               MIG M. |\n",
      "|===============================+======================+======================|\n",
      "|   0  NVIDIA T550 Lap... WDDM  | 00000000:03:00.0 Off |                  N/A |\n",
      "| N/A   48C    P0    10W /  20W |      0MiB /  4096MiB |      0%      Default |\n",
      "|                               |                      |                  N/A |\n",
      "+-------------------------------+----------------------+----------------------+\n",
      "                                                                               \n",
      "+-----------------------------------------------------------------------------+\n",
      "| Processes:                                                                  |\n",
      "|  GPU   GI   CI        PID   Type   Process name                  GPU Memory |\n",
      "|        ID   ID                                                   Usage      |\n",
      "|=============================================================================|\n",
      "|  No running processes found                                                 |\n",
      "+-----------------------------------------------------------------------------+\n"
     ]
    }
   ],
   "source": [
    "!nvidia-smi"
   ]
  },
  {
   "cell_type": "code",
   "execution_count": 10,
   "metadata": {},
   "outputs": [],
   "source": [
    "import ultralytics\n",
    "from ultralytics import YOLO\n",
    "import cv2"
   ]
  },
  {
   "cell_type": "code",
   "execution_count": 20,
   "metadata": {},
   "outputs": [],
   "source": [
    "import os\n",
    "import shutil\n",
    "\n",
    "for i in range(200):\n",
    "    img_name = f'image_{i}.jpg'\n",
    "    key_name = f'image_{i}.json'\n",
    "    shutil.copy(f'TrainingData/TrainingInputs/{img_name}', f'\"../../../datasets/test1/train/images/')\n",
    "    shutil.copy(f'TrainingData/TrainingKeys/{key_name}', f'\"../../../datasets/test1/keys/')"
   ]
  },
  {
   "cell_type": "code",
   "execution_count": 45,
   "metadata": {},
   "outputs": [],
   "source": [
    "for i in range(200, 251):\n",
    "    img_name = f'image_{i}.jpg'\n",
    "    key_name = f'image_{i}.json'\n",
    "    shutil.copy(f'TrainingData/TrainingInputs/{img_name}', f'../../../datasets/test1/val/images/')\n",
    "    shutil.copy(f'TrainingData/TrainingKeys/{key_name}', f'../../../datasets/test1/keys/')"
   ]
  },
  {
   "cell_type": "code",
   "execution_count": 37,
   "metadata": {},
   "outputs": [],
   "source": [
    "import cv2\n",
    "import json\n",
    "\n",
    "def annotate(img):\n",
    "    image = cv2.imread(f\"../../../datasets/test1/train/images/{img}.jpg\")\n",
    "\n",
    "    with open(f\"../../../datasets/test1/keys/{img}.json\", \"r\") as json_file:\n",
    "        json_data = json.load(json_file)\n",
    "\n",
    "    x = int(json_data[\"position\"][\"x\"])\n",
    "    y = int(json_data['position']['y'])\n",
    "    w = int(json_data[\"position\"][\"z\"])\n",
    "    h = int(json_data[\"position\"][\"w\"])\n",
    "\n",
    "    x1 = x + w\n",
    "    x2 = x - w\n",
    "    y1 = y + h\n",
    "    y2 = y - h\n",
    "    \n",
    "    cv2.rectangle(image, (x1, y1), (x2, y2), (0, 255, 0), 2)  # Green rectangle with a thickness of 2\n",
    "    cv2.circle(image, (x, y), 5, (255, 0, 0), -1)\n",
    "\n",
    "    cv2.imshow(\"Image with Bounding Boxes\", image)\n",
    "    cv2.waitKey(0)\n",
    "    cv2.destroyAllWindows()\n"
   ]
  },
  {
   "cell_type": "code",
   "execution_count": 38,
   "metadata": {},
   "outputs": [],
   "source": [
    "import numpy as np\n",
    "\n",
    "for i in np.random.randint(0, 200, 10):\n",
    "    img_name = f'image_{i}'\n",
    "    annotate(img_name)"
   ]
  },
  {
   "cell_type": "code",
   "execution_count": 39,
   "metadata": {},
   "outputs": [],
   "source": [
    "for i in range(200):\n",
    "    with open(f\"../../../datasets/test1/keys/image_{i}.json\", \"r\") as json_file:\n",
    "        json_data = json.load(json_file)\n",
    "\n",
    "    with open(f\"../../../datasets/test1/train/labels/image_{i}.txt\", \"w\") as file:\n",
    "        x = int(json_data[\"position\"][\"x\"])\n",
    "        y = int(json_data['position']['y'])\n",
    "        w = int(json_data[\"position\"][\"z\"])\n",
    "        h = int(json_data[\"position\"][\"w\"])\n",
    "\n",
    "        file.write(f'0 {x/1280} {y/720} {w/1280} {h/720}')"
   ]
  },
  {
   "cell_type": "code",
   "execution_count": 46,
   "metadata": {},
   "outputs": [],
   "source": [
    "for i in range(200, 251):\n",
    "    with open(f\"../../../datasets/test1/keys/image_{i}.json\", \"r\") as json_file:\n",
    "        json_data = json.load(json_file)\n",
    "\n",
    "    with open(f\"../../../datasets/test1/val/labels/image_{i}.txt\", \"w\") as file:\n",
    "        x = int(json_data[\"position\"][\"x\"])\n",
    "        y = int(json_data['position']['y'])\n",
    "        w = int(json_data[\"position\"][\"z\"])\n",
    "        h = int(json_data[\"position\"][\"w\"])\n",
    "\n",
    "        file.write(f'0 {x/1280} {y/720} {w/1280} {h/720}')"
   ]
  },
  {
   "cell_type": "code",
   "execution_count": 23,
   "metadata": {},
   "outputs": [
    {
     "name": "stderr",
     "output_type": "stream",
     "text": [
      "\n",
      "0: 384x640 2 boats, 8.4ms\n",
      "Speed: 2.1ms preprocess, 8.4ms inference, 1.0ms postprocess per image at shape (1, 3, 384, 640)\n"
     ]
    },
    {
     "name": "stdout",
     "output_type": "stream",
     "text": [
      "<built-in method type of Tensor object at 0x000002294F88B890>\n",
      "605 649 26 72\n"
     ]
    }
   ],
   "source": [
    "\n",
    "model = YOLO('yolov8n.pt')\n",
    "\n",
    "image = cv2.imread(\"../../../datasets/test1/val/images/image_210.jpg\")\n",
    "\n",
    "results = model(image)\n",
    "\n",
    "xyxy = results[0].boxes.xyxy\n",
    "print(xyxy.type)\n",
    "x = int(xyxy[0][0].item())\n",
    "y = int(xyxy[0][2].item())\n",
    "w = int(xyxy[0][1].item())\n",
    "h = int(xyxy[0][3].item())\n",
    "\n",
    "print(x, y, w, h)\n",
    "\n",
    "cv2.rectangle(image, (x, y), (x + w, y + h), (0, 255, 0), 2)  # Green rectangle with a thickness of 2\n",
    "\n",
    "cv2.imshow(\"Image with Bounding Boxes\", image)\n",
    "cv2.waitKey(0)\n",
    "cv2.destroyAllWindows()\n"
   ]
  },
  {
   "cell_type": "code",
   "execution_count": null,
   "metadata": {},
   "outputs": [],
   "source": []
  },
  {
   "cell_type": "code",
   "execution_count": null,
   "metadata": {},
   "outputs": [],
   "source": []
  }
 ],
 "metadata": {
  "kernelspec": {
   "display_name": "Python 3",
   "language": "python",
   "name": "python3"
  },
  "language_info": {
   "codemirror_mode": {
    "name": "ipython",
    "version": 3
   },
   "file_extension": ".py",
   "mimetype": "text/x-python",
   "name": "python",
   "nbconvert_exporter": "python",
   "pygments_lexer": "ipython3",
   "version": "3.11.6"
  }
 },
 "nbformat": 4,
 "nbformat_minor": 2
}
